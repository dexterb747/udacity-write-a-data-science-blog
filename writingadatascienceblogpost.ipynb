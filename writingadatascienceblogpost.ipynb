{
 "cells": [
  {
   "cell_type": "markdown",
   "id": "a3cae893",
   "metadata": {},
   "source": [
    "### Project: Write a Data Science Blog Post"
   ]
  },
  {
   "cell_type": "markdown",
   "id": "96bc588f",
   "metadata": {},
   "source": [
    "### Business Understanding\n",
    "Airbnb is a company that provides a platform for persons to advertise their properties to other persons for the purposing of renting it. Once rented, Airbnb will collect a premium for this service. This has become very popular similar to Uber and other types of companies which used the same philosophy of not owning the asset. The reason for this post is to help you understand certain key points for you to consider if you were interested in becoming an Airbnb client for your property.\n",
    "\n",
    "The questions we will focus on are the following which should provide some insights on the subject.\n",
    "\n",
    "1) Which property type is the most popular?\n",
    "\n",
    "2) What is the most popular price for the most popular property type?\n",
    "\n",
    "3) What is the most popular bathroom for the most popular property type?"
   ]
  },
  {
   "cell_type": "code",
   "execution_count": 1,
   "id": "2db20f81",
   "metadata": {},
   "outputs": [],
   "source": [
    "# import the relevant libraries\n",
    "import time\n",
    "import sys\n",
    "import pandas as pd\n",
    "import matplotlib.pyplot as plt"
   ]
  },
  {
   "cell_type": "markdown",
   "id": "2439591c",
   "metadata": {},
   "source": [
    "### Data Understanding\n",
    "\n",
    "Assess and Explore Data\n",
    "\n",
    "This will explore the data to gain an understanding of how it relates to each other.\n",
    "The reading of the data files will be executed here to load it into the dataframes."
   ]
  },
  {
   "cell_type": "code",
   "execution_count": 2,
   "id": "4f2b5464",
   "metadata": {},
   "outputs": [],
   "source": [
    "# read the csv files into pandas data frames\n",
    "calendar = pd.read_csv('calendar.csv')\n",
    "listings = pd.read_csv('listings.csv')\n",
    "reviews = pd.read_csv('reviews.csv')"
   ]
  },
  {
   "cell_type": "code",
   "execution_count": 3,
   "id": "2d111b40",
   "metadata": {},
   "outputs": [
    {
     "name": "stdout",
     "output_type": "stream",
     "text": [
      "<class 'pandas.core.frame.DataFrame'>\n",
      "RangeIndex: 1393570 entries, 0 to 1393569\n",
      "Data columns (total 4 columns):\n",
      " #   Column      Non-Null Count    Dtype \n",
      "---  ------      --------------    ----- \n",
      " 0   listing_id  1393570 non-null  int64 \n",
      " 1   date        1393570 non-null  object\n",
      " 2   available   1393570 non-null  object\n",
      " 3   price       934542 non-null   object\n",
      "dtypes: int64(1), object(3)\n",
      "memory usage: 42.5+ MB\n"
     ]
    },
    {
     "data": {
      "text/html": [
       "<div>\n",
       "<style scoped>\n",
       "    .dataframe tbody tr th:only-of-type {\n",
       "        vertical-align: middle;\n",
       "    }\n",
       "\n",
       "    .dataframe tbody tr th {\n",
       "        vertical-align: top;\n",
       "    }\n",
       "\n",
       "    .dataframe thead th {\n",
       "        text-align: right;\n",
       "    }\n",
       "</style>\n",
       "<table border=\"1\" class=\"dataframe\">\n",
       "  <thead>\n",
       "    <tr style=\"text-align: right;\">\n",
       "      <th></th>\n",
       "      <th>listing_id</th>\n",
       "      <th>date</th>\n",
       "      <th>available</th>\n",
       "      <th>price</th>\n",
       "    </tr>\n",
       "  </thead>\n",
       "  <tbody>\n",
       "    <tr>\n",
       "      <th>0</th>\n",
       "      <td>241032</td>\n",
       "      <td>2016-01-04</td>\n",
       "      <td>t</td>\n",
       "      <td>$85.00</td>\n",
       "    </tr>\n",
       "    <tr>\n",
       "      <th>1</th>\n",
       "      <td>241032</td>\n",
       "      <td>2016-01-05</td>\n",
       "      <td>t</td>\n",
       "      <td>$85.00</td>\n",
       "    </tr>\n",
       "    <tr>\n",
       "      <th>2</th>\n",
       "      <td>241032</td>\n",
       "      <td>2016-01-06</td>\n",
       "      <td>f</td>\n",
       "      <td>NaN</td>\n",
       "    </tr>\n",
       "    <tr>\n",
       "      <th>3</th>\n",
       "      <td>241032</td>\n",
       "      <td>2016-01-07</td>\n",
       "      <td>f</td>\n",
       "      <td>NaN</td>\n",
       "    </tr>\n",
       "    <tr>\n",
       "      <th>4</th>\n",
       "      <td>241032</td>\n",
       "      <td>2016-01-08</td>\n",
       "      <td>f</td>\n",
       "      <td>NaN</td>\n",
       "    </tr>\n",
       "  </tbody>\n",
       "</table>\n",
       "</div>"
      ],
      "text/plain": [
       "   listing_id        date available   price\n",
       "0      241032  2016-01-04         t  $85.00\n",
       "1      241032  2016-01-05         t  $85.00\n",
       "2      241032  2016-01-06         f     NaN\n",
       "3      241032  2016-01-07         f     NaN\n",
       "4      241032  2016-01-08         f     NaN"
      ]
     },
     "execution_count": 3,
     "metadata": {},
     "output_type": "execute_result"
    }
   ],
   "source": [
    "# get the first few records to understand the data\n",
    "calendar.info()\n",
    "calendar.head()"
   ]
  },
  {
   "cell_type": "code",
   "execution_count": 4,
   "id": "2d661977",
   "metadata": {},
   "outputs": [
    {
     "name": "stdout",
     "output_type": "stream",
     "text": [
      "<class 'pandas.core.frame.DataFrame'>\n",
      "RangeIndex: 3818 entries, 0 to 3817\n",
      "Data columns (total 92 columns):\n",
      " #   Column                            Non-Null Count  Dtype  \n",
      "---  ------                            --------------  -----  \n",
      " 0   id                                3818 non-null   int64  \n",
      " 1   listing_url                       3818 non-null   object \n",
      " 2   scrape_id                         3818 non-null   int64  \n",
      " 3   last_scraped                      3818 non-null   object \n",
      " 4   name                              3818 non-null   object \n",
      " 5   summary                           3641 non-null   object \n",
      " 6   space                             3249 non-null   object \n",
      " 7   description                       3818 non-null   object \n",
      " 8   experiences_offered               3818 non-null   object \n",
      " 9   neighborhood_overview             2786 non-null   object \n",
      " 10  notes                             2212 non-null   object \n",
      " 11  transit                           2884 non-null   object \n",
      " 12  thumbnail_url                     3498 non-null   object \n",
      " 13  medium_url                        3498 non-null   object \n",
      " 14  picture_url                       3818 non-null   object \n",
      " 15  xl_picture_url                    3498 non-null   object \n",
      " 16  host_id                           3818 non-null   int64  \n",
      " 17  host_url                          3818 non-null   object \n",
      " 18  host_name                         3816 non-null   object \n",
      " 19  host_since                        3816 non-null   object \n",
      " 20  host_location                     3810 non-null   object \n",
      " 21  host_about                        2959 non-null   object \n",
      " 22  host_response_time                3295 non-null   object \n",
      " 23  host_response_rate                3295 non-null   object \n",
      " 24  host_acceptance_rate              3045 non-null   object \n",
      " 25  host_is_superhost                 3816 non-null   object \n",
      " 26  host_thumbnail_url                3816 non-null   object \n",
      " 27  host_picture_url                  3816 non-null   object \n",
      " 28  host_neighbourhood                3518 non-null   object \n",
      " 29  host_listings_count               3816 non-null   float64\n",
      " 30  host_total_listings_count         3816 non-null   float64\n",
      " 31  host_verifications                3816 non-null   object \n",
      " 32  host_has_profile_pic              3816 non-null   object \n",
      " 33  host_identity_verified            3816 non-null   object \n",
      " 34  street                            3818 non-null   object \n",
      " 35  neighbourhood                     3402 non-null   object \n",
      " 36  neighbourhood_cleansed            3818 non-null   object \n",
      " 37  neighbourhood_group_cleansed      3818 non-null   object \n",
      " 38  city                              3818 non-null   object \n",
      " 39  state                             3818 non-null   object \n",
      " 40  zipcode                           3811 non-null   object \n",
      " 41  market                            3818 non-null   object \n",
      " 42  smart_location                    3818 non-null   object \n",
      " 43  country_code                      3818 non-null   object \n",
      " 44  country                           3818 non-null   object \n",
      " 45  latitude                          3818 non-null   float64\n",
      " 46  longitude                         3818 non-null   float64\n",
      " 47  is_location_exact                 3818 non-null   object \n",
      " 48  property_type                     3817 non-null   object \n",
      " 49  room_type                         3818 non-null   object \n",
      " 50  accommodates                      3818 non-null   int64  \n",
      " 51  bathrooms                         3802 non-null   float64\n",
      " 52  bedrooms                          3812 non-null   float64\n",
      " 53  beds                              3817 non-null   float64\n",
      " 54  bed_type                          3818 non-null   object \n",
      " 55  amenities                         3818 non-null   object \n",
      " 56  square_feet                       97 non-null     float64\n",
      " 57  price                             3818 non-null   object \n",
      " 58  weekly_price                      2009 non-null   object \n",
      " 59  monthly_price                     1517 non-null   object \n",
      " 60  security_deposit                  1866 non-null   object \n",
      " 61  cleaning_fee                      2788 non-null   object \n",
      " 62  guests_included                   3818 non-null   int64  \n",
      " 63  extra_people                      3818 non-null   object \n",
      " 64  minimum_nights                    3818 non-null   int64  \n",
      " 65  maximum_nights                    3818 non-null   int64  \n",
      " 66  calendar_updated                  3818 non-null   object \n",
      " 67  has_availability                  3818 non-null   object \n",
      " 68  availability_30                   3818 non-null   int64  \n",
      " 69  availability_60                   3818 non-null   int64  \n",
      " 70  availability_90                   3818 non-null   int64  \n",
      " 71  availability_365                  3818 non-null   int64  \n",
      " 72  calendar_last_scraped             3818 non-null   object \n",
      " 73  number_of_reviews                 3818 non-null   int64  \n",
      " 74  first_review                      3191 non-null   object \n",
      " 75  last_review                       3191 non-null   object \n",
      " 76  review_scores_rating              3171 non-null   float64\n",
      " 77  review_scores_accuracy            3160 non-null   float64\n",
      " 78  review_scores_cleanliness         3165 non-null   float64\n",
      " 79  review_scores_checkin             3160 non-null   float64\n",
      " 80  review_scores_communication       3167 non-null   float64\n",
      " 81  review_scores_location            3163 non-null   float64\n",
      " 82  review_scores_value               3162 non-null   float64\n",
      " 83  requires_license                  3818 non-null   object \n",
      " 84  license                           0 non-null      float64\n",
      " 85  jurisdiction_names                3818 non-null   object \n",
      " 86  instant_bookable                  3818 non-null   object \n",
      " 87  cancellation_policy               3818 non-null   object \n",
      " 88  require_guest_profile_picture     3818 non-null   object \n",
      " 89  require_guest_phone_verification  3818 non-null   object \n",
      " 90  calculated_host_listings_count    3818 non-null   int64  \n",
      " 91  reviews_per_month                 3191 non-null   float64\n",
      "dtypes: float64(17), int64(13), object(62)\n",
      "memory usage: 2.7+ MB\n"
     ]
    },
    {
     "data": {
      "text/html": [
       "<div>\n",
       "<style scoped>\n",
       "    .dataframe tbody tr th:only-of-type {\n",
       "        vertical-align: middle;\n",
       "    }\n",
       "\n",
       "    .dataframe tbody tr th {\n",
       "        vertical-align: top;\n",
       "    }\n",
       "\n",
       "    .dataframe thead th {\n",
       "        text-align: right;\n",
       "    }\n",
       "</style>\n",
       "<table border=\"1\" class=\"dataframe\">\n",
       "  <thead>\n",
       "    <tr style=\"text-align: right;\">\n",
       "      <th></th>\n",
       "      <th>id</th>\n",
       "      <th>listing_url</th>\n",
       "      <th>scrape_id</th>\n",
       "      <th>last_scraped</th>\n",
       "      <th>name</th>\n",
       "      <th>summary</th>\n",
       "      <th>space</th>\n",
       "      <th>description</th>\n",
       "      <th>experiences_offered</th>\n",
       "      <th>neighborhood_overview</th>\n",
       "      <th>...</th>\n",
       "      <th>review_scores_value</th>\n",
       "      <th>requires_license</th>\n",
       "      <th>license</th>\n",
       "      <th>jurisdiction_names</th>\n",
       "      <th>instant_bookable</th>\n",
       "      <th>cancellation_policy</th>\n",
       "      <th>require_guest_profile_picture</th>\n",
       "      <th>require_guest_phone_verification</th>\n",
       "      <th>calculated_host_listings_count</th>\n",
       "      <th>reviews_per_month</th>\n",
       "    </tr>\n",
       "  </thead>\n",
       "  <tbody>\n",
       "    <tr>\n",
       "      <th>0</th>\n",
       "      <td>241032</td>\n",
       "      <td>https://www.airbnb.com/rooms/241032</td>\n",
       "      <td>20160104002432</td>\n",
       "      <td>2016-01-04</td>\n",
       "      <td>Stylish Queen Anne Apartment</td>\n",
       "      <td>NaN</td>\n",
       "      <td>Make your self at home in this charming one-be...</td>\n",
       "      <td>Make your self at home in this charming one-be...</td>\n",
       "      <td>none</td>\n",
       "      <td>NaN</td>\n",
       "      <td>...</td>\n",
       "      <td>10.0</td>\n",
       "      <td>f</td>\n",
       "      <td>NaN</td>\n",
       "      <td>WASHINGTON</td>\n",
       "      <td>f</td>\n",
       "      <td>moderate</td>\n",
       "      <td>f</td>\n",
       "      <td>f</td>\n",
       "      <td>2</td>\n",
       "      <td>4.07</td>\n",
       "    </tr>\n",
       "    <tr>\n",
       "      <th>1</th>\n",
       "      <td>953595</td>\n",
       "      <td>https://www.airbnb.com/rooms/953595</td>\n",
       "      <td>20160104002432</td>\n",
       "      <td>2016-01-04</td>\n",
       "      <td>Bright &amp; Airy Queen Anne Apartment</td>\n",
       "      <td>Chemically sensitive? We've removed the irrita...</td>\n",
       "      <td>Beautiful, hypoallergenic apartment in an extr...</td>\n",
       "      <td>Chemically sensitive? We've removed the irrita...</td>\n",
       "      <td>none</td>\n",
       "      <td>Queen Anne is a wonderful, truly functional vi...</td>\n",
       "      <td>...</td>\n",
       "      <td>10.0</td>\n",
       "      <td>f</td>\n",
       "      <td>NaN</td>\n",
       "      <td>WASHINGTON</td>\n",
       "      <td>f</td>\n",
       "      <td>strict</td>\n",
       "      <td>t</td>\n",
       "      <td>t</td>\n",
       "      <td>6</td>\n",
       "      <td>1.48</td>\n",
       "    </tr>\n",
       "    <tr>\n",
       "      <th>2</th>\n",
       "      <td>3308979</td>\n",
       "      <td>https://www.airbnb.com/rooms/3308979</td>\n",
       "      <td>20160104002432</td>\n",
       "      <td>2016-01-04</td>\n",
       "      <td>New Modern House-Amazing water view</td>\n",
       "      <td>New modern house built in 2013.  Spectacular s...</td>\n",
       "      <td>Our house is modern, light and fresh with a wa...</td>\n",
       "      <td>New modern house built in 2013.  Spectacular s...</td>\n",
       "      <td>none</td>\n",
       "      <td>Upper Queen Anne is a charming neighborhood fu...</td>\n",
       "      <td>...</td>\n",
       "      <td>10.0</td>\n",
       "      <td>f</td>\n",
       "      <td>NaN</td>\n",
       "      <td>WASHINGTON</td>\n",
       "      <td>f</td>\n",
       "      <td>strict</td>\n",
       "      <td>f</td>\n",
       "      <td>f</td>\n",
       "      <td>2</td>\n",
       "      <td>1.15</td>\n",
       "    </tr>\n",
       "    <tr>\n",
       "      <th>3</th>\n",
       "      <td>7421966</td>\n",
       "      <td>https://www.airbnb.com/rooms/7421966</td>\n",
       "      <td>20160104002432</td>\n",
       "      <td>2016-01-04</td>\n",
       "      <td>Queen Anne Chateau</td>\n",
       "      <td>A charming apartment that sits atop Queen Anne...</td>\n",
       "      <td>NaN</td>\n",
       "      <td>A charming apartment that sits atop Queen Anne...</td>\n",
       "      <td>none</td>\n",
       "      <td>NaN</td>\n",
       "      <td>...</td>\n",
       "      <td>NaN</td>\n",
       "      <td>f</td>\n",
       "      <td>NaN</td>\n",
       "      <td>WASHINGTON</td>\n",
       "      <td>f</td>\n",
       "      <td>flexible</td>\n",
       "      <td>f</td>\n",
       "      <td>f</td>\n",
       "      <td>1</td>\n",
       "      <td>NaN</td>\n",
       "    </tr>\n",
       "    <tr>\n",
       "      <th>4</th>\n",
       "      <td>278830</td>\n",
       "      <td>https://www.airbnb.com/rooms/278830</td>\n",
       "      <td>20160104002432</td>\n",
       "      <td>2016-01-04</td>\n",
       "      <td>Charming craftsman 3 bdm house</td>\n",
       "      <td>Cozy family craftman house in beautiful neighb...</td>\n",
       "      <td>Cozy family craftman house in beautiful neighb...</td>\n",
       "      <td>Cozy family craftman house in beautiful neighb...</td>\n",
       "      <td>none</td>\n",
       "      <td>We are in the beautiful neighborhood of Queen ...</td>\n",
       "      <td>...</td>\n",
       "      <td>9.0</td>\n",
       "      <td>f</td>\n",
       "      <td>NaN</td>\n",
       "      <td>WASHINGTON</td>\n",
       "      <td>f</td>\n",
       "      <td>strict</td>\n",
       "      <td>f</td>\n",
       "      <td>f</td>\n",
       "      <td>1</td>\n",
       "      <td>0.89</td>\n",
       "    </tr>\n",
       "  </tbody>\n",
       "</table>\n",
       "<p>5 rows × 92 columns</p>\n",
       "</div>"
      ],
      "text/plain": [
       "        id                           listing_url       scrape_id last_scraped  \\\n",
       "0   241032   https://www.airbnb.com/rooms/241032  20160104002432   2016-01-04   \n",
       "1   953595   https://www.airbnb.com/rooms/953595  20160104002432   2016-01-04   \n",
       "2  3308979  https://www.airbnb.com/rooms/3308979  20160104002432   2016-01-04   \n",
       "3  7421966  https://www.airbnb.com/rooms/7421966  20160104002432   2016-01-04   \n",
       "4   278830   https://www.airbnb.com/rooms/278830  20160104002432   2016-01-04   \n",
       "\n",
       "                                  name  \\\n",
       "0         Stylish Queen Anne Apartment   \n",
       "1   Bright & Airy Queen Anne Apartment   \n",
       "2  New Modern House-Amazing water view   \n",
       "3                   Queen Anne Chateau   \n",
       "4       Charming craftsman 3 bdm house   \n",
       "\n",
       "                                             summary  \\\n",
       "0                                                NaN   \n",
       "1  Chemically sensitive? We've removed the irrita...   \n",
       "2  New modern house built in 2013.  Spectacular s...   \n",
       "3  A charming apartment that sits atop Queen Anne...   \n",
       "4  Cozy family craftman house in beautiful neighb...   \n",
       "\n",
       "                                               space  \\\n",
       "0  Make your self at home in this charming one-be...   \n",
       "1  Beautiful, hypoallergenic apartment in an extr...   \n",
       "2  Our house is modern, light and fresh with a wa...   \n",
       "3                                                NaN   \n",
       "4  Cozy family craftman house in beautiful neighb...   \n",
       "\n",
       "                                         description experiences_offered  \\\n",
       "0  Make your self at home in this charming one-be...                none   \n",
       "1  Chemically sensitive? We've removed the irrita...                none   \n",
       "2  New modern house built in 2013.  Spectacular s...                none   \n",
       "3  A charming apartment that sits atop Queen Anne...                none   \n",
       "4  Cozy family craftman house in beautiful neighb...                none   \n",
       "\n",
       "                               neighborhood_overview  ... review_scores_value  \\\n",
       "0                                                NaN  ...                10.0   \n",
       "1  Queen Anne is a wonderful, truly functional vi...  ...                10.0   \n",
       "2  Upper Queen Anne is a charming neighborhood fu...  ...                10.0   \n",
       "3                                                NaN  ...                 NaN   \n",
       "4  We are in the beautiful neighborhood of Queen ...  ...                 9.0   \n",
       "\n",
       "  requires_license license jurisdiction_names instant_bookable  \\\n",
       "0                f     NaN         WASHINGTON                f   \n",
       "1                f     NaN         WASHINGTON                f   \n",
       "2                f     NaN         WASHINGTON                f   \n",
       "3                f     NaN         WASHINGTON                f   \n",
       "4                f     NaN         WASHINGTON                f   \n",
       "\n",
       "  cancellation_policy  require_guest_profile_picture  \\\n",
       "0            moderate                              f   \n",
       "1              strict                              t   \n",
       "2              strict                              f   \n",
       "3            flexible                              f   \n",
       "4              strict                              f   \n",
       "\n",
       "  require_guest_phone_verification calculated_host_listings_count  \\\n",
       "0                                f                              2   \n",
       "1                                t                              6   \n",
       "2                                f                              2   \n",
       "3                                f                              1   \n",
       "4                                f                              1   \n",
       "\n",
       "  reviews_per_month  \n",
       "0              4.07  \n",
       "1              1.48  \n",
       "2              1.15  \n",
       "3               NaN  \n",
       "4              0.89  \n",
       "\n",
       "[5 rows x 92 columns]"
      ]
     },
     "execution_count": 4,
     "metadata": {},
     "output_type": "execute_result"
    }
   ],
   "source": [
    "# get the first few records to understand the data\n",
    "listings.info()\n",
    "listings.head()"
   ]
  },
  {
   "cell_type": "code",
   "execution_count": 5,
   "id": "877b1026",
   "metadata": {},
   "outputs": [
    {
     "name": "stdout",
     "output_type": "stream",
     "text": [
      "<class 'pandas.core.frame.DataFrame'>\n",
      "RangeIndex: 84849 entries, 0 to 84848\n",
      "Data columns (total 6 columns):\n",
      " #   Column         Non-Null Count  Dtype \n",
      "---  ------         --------------  ----- \n",
      " 0   listing_id     84849 non-null  int64 \n",
      " 1   id             84849 non-null  int64 \n",
      " 2   date           84849 non-null  object\n",
      " 3   reviewer_id    84849 non-null  int64 \n",
      " 4   reviewer_name  84849 non-null  object\n",
      " 5   comments       84831 non-null  object\n",
      "dtypes: int64(3), object(3)\n",
      "memory usage: 3.9+ MB\n"
     ]
    },
    {
     "data": {
      "text/html": [
       "<div>\n",
       "<style scoped>\n",
       "    .dataframe tbody tr th:only-of-type {\n",
       "        vertical-align: middle;\n",
       "    }\n",
       "\n",
       "    .dataframe tbody tr th {\n",
       "        vertical-align: top;\n",
       "    }\n",
       "\n",
       "    .dataframe thead th {\n",
       "        text-align: right;\n",
       "    }\n",
       "</style>\n",
       "<table border=\"1\" class=\"dataframe\">\n",
       "  <thead>\n",
       "    <tr style=\"text-align: right;\">\n",
       "      <th></th>\n",
       "      <th>listing_id</th>\n",
       "      <th>id</th>\n",
       "      <th>date</th>\n",
       "      <th>reviewer_id</th>\n",
       "      <th>reviewer_name</th>\n",
       "      <th>comments</th>\n",
       "    </tr>\n",
       "  </thead>\n",
       "  <tbody>\n",
       "    <tr>\n",
       "      <th>0</th>\n",
       "      <td>7202016</td>\n",
       "      <td>38917982</td>\n",
       "      <td>2015-07-19</td>\n",
       "      <td>28943674</td>\n",
       "      <td>Bianca</td>\n",
       "      <td>Cute and cozy place. Perfect location to every...</td>\n",
       "    </tr>\n",
       "    <tr>\n",
       "      <th>1</th>\n",
       "      <td>7202016</td>\n",
       "      <td>39087409</td>\n",
       "      <td>2015-07-20</td>\n",
       "      <td>32440555</td>\n",
       "      <td>Frank</td>\n",
       "      <td>Kelly has a great room in a very central locat...</td>\n",
       "    </tr>\n",
       "    <tr>\n",
       "      <th>2</th>\n",
       "      <td>7202016</td>\n",
       "      <td>39820030</td>\n",
       "      <td>2015-07-26</td>\n",
       "      <td>37722850</td>\n",
       "      <td>Ian</td>\n",
       "      <td>Very spacious apartment, and in a great neighb...</td>\n",
       "    </tr>\n",
       "    <tr>\n",
       "      <th>3</th>\n",
       "      <td>7202016</td>\n",
       "      <td>40813543</td>\n",
       "      <td>2015-08-02</td>\n",
       "      <td>33671805</td>\n",
       "      <td>George</td>\n",
       "      <td>Close to Seattle Center and all it has to offe...</td>\n",
       "    </tr>\n",
       "    <tr>\n",
       "      <th>4</th>\n",
       "      <td>7202016</td>\n",
       "      <td>41986501</td>\n",
       "      <td>2015-08-10</td>\n",
       "      <td>34959538</td>\n",
       "      <td>Ming</td>\n",
       "      <td>Kelly was a great host and very accommodating ...</td>\n",
       "    </tr>\n",
       "  </tbody>\n",
       "</table>\n",
       "</div>"
      ],
      "text/plain": [
       "   listing_id        id        date  reviewer_id reviewer_name  \\\n",
       "0     7202016  38917982  2015-07-19     28943674        Bianca   \n",
       "1     7202016  39087409  2015-07-20     32440555         Frank   \n",
       "2     7202016  39820030  2015-07-26     37722850           Ian   \n",
       "3     7202016  40813543  2015-08-02     33671805        George   \n",
       "4     7202016  41986501  2015-08-10     34959538          Ming   \n",
       "\n",
       "                                            comments  \n",
       "0  Cute and cozy place. Perfect location to every...  \n",
       "1  Kelly has a great room in a very central locat...  \n",
       "2  Very spacious apartment, and in a great neighb...  \n",
       "3  Close to Seattle Center and all it has to offe...  \n",
       "4  Kelly was a great host and very accommodating ...  "
      ]
     },
     "execution_count": 5,
     "metadata": {},
     "output_type": "execute_result"
    }
   ],
   "source": [
    "# get the first few records to understand the data\n",
    "reviews.info()\n",
    "reviews.head()"
   ]
  },
  {
   "cell_type": "markdown",
   "id": "9a842fd7",
   "metadata": {},
   "source": [
    "### Data Preparation\n",
    "\n",
    "Clean Data\n",
    "\n",
    "This will remove unncessary columns, replace nulls and ensure the data is good for use later on."
   ]
  },
  {
   "cell_type": "code",
   "execution_count": 6,
   "id": "b6182eac",
   "metadata": {},
   "outputs": [],
   "source": [
    "# create a new dataframe with the minimum columns needed for\n",
    "# the problems. It takes the columns listed below from the\n",
    "# main dataframe which has 92 columns. This will improve\n",
    "# performance as well as easy to manipulate\n",
    "listings_revised = listings.reindex(\n",
    "    columns=['id', 'name', 'property_type', 'price', 'bathrooms'])"
   ]
  },
  {
   "cell_type": "code",
   "execution_count": 7,
   "id": "dbadc4f6",
   "metadata": {},
   "outputs": [
    {
     "data": {
      "text/plain": [
       "listing_id         0\n",
       "date               0\n",
       "available          0\n",
       "price         459028\n",
       "dtype: int64"
      ]
     },
     "execution_count": 7,
     "metadata": {},
     "output_type": "execute_result"
    }
   ],
   "source": [
    "# check for nulls\n",
    "calendar.isnull().sum()"
   ]
  },
  {
   "cell_type": "code",
   "execution_count": 8,
   "id": "ce908fd4",
   "metadata": {},
   "outputs": [
    {
     "data": {
      "text/plain": [
       "id                0\n",
       "name              0\n",
       "property_type     1\n",
       "price             0\n",
       "bathrooms        16\n",
       "dtype: int64"
      ]
     },
     "execution_count": 8,
     "metadata": {},
     "output_type": "execute_result"
    }
   ],
   "source": [
    "# check for nulls\n",
    "listings_revised.isnull().sum()"
   ]
  },
  {
   "cell_type": "code",
   "execution_count": 9,
   "id": "4db9e84a",
   "metadata": {},
   "outputs": [
    {
     "data": {
      "text/plain": [
       "listing_id        0\n",
       "id                0\n",
       "date              0\n",
       "reviewer_id       0\n",
       "reviewer_name     0\n",
       "comments         18\n",
       "dtype: int64"
      ]
     },
     "execution_count": 9,
     "metadata": {},
     "output_type": "execute_result"
    }
   ],
   "source": [
    "# check for nulls\n",
    "reviews.isnull().sum()"
   ]
  },
  {
   "cell_type": "code",
   "execution_count": 10,
   "id": "e61c21cc",
   "metadata": {},
   "outputs": [
    {
     "data": {
      "text/plain": [
       "0    House\n",
       "Name: property_type, dtype: object"
      ]
     },
     "execution_count": 10,
     "metadata": {},
     "output_type": "execute_result"
    }
   ],
   "source": [
    "# find the mode value in the dataset which is the value\n",
    "# that shows up the most frequently\n",
    "listings_revised['property_type'].mode()"
   ]
  },
  {
   "cell_type": "code",
   "execution_count": 11,
   "id": "ba1fb8aa",
   "metadata": {},
   "outputs": [],
   "source": [
    "# replace the nulls with the mode value.\n",
    "# the reason why the record with the null property type\n",
    "# was not dropped is because the I will want to use it later\n",
    "# on and I assigned it the mode value. This guess to use the\n",
    "# mode is okay in this case since number of missing data is negligible.\n",
    "listings_revised['property_type'].fillna('House', inplace=True)"
   ]
  },
  {
   "cell_type": "code",
   "execution_count": 12,
   "id": "a31cbe02",
   "metadata": {},
   "outputs": [
    {
     "data": {
      "text/plain": [
       "0    1.0\n",
       "Name: bathrooms, dtype: float64"
      ]
     },
     "execution_count": 12,
     "metadata": {},
     "output_type": "execute_result"
    }
   ],
   "source": [
    "# find the mode value in the dataset which is the value\n",
    "# that shows up the most frequently\n",
    "listings_revised['bathrooms'].mode()"
   ]
  },
  {
   "cell_type": "code",
   "execution_count": 13,
   "id": "8becccd3",
   "metadata": {},
   "outputs": [],
   "source": [
    "# replace the nulls with the mode value.\n",
    "# the reason why the record with the null property type\n",
    "# was not dropped is because the I will want to use it later\n",
    "# on and I assigned it the mode value. This guess to use the\n",
    "# mode is okay in this case since number of missing data is negligible.\n",
    "listings_revised['bathrooms'].fillna(1.0, inplace=True)"
   ]
  },
  {
   "cell_type": "code",
   "execution_count": 14,
   "id": "ac6e83fd",
   "metadata": {},
   "outputs": [
    {
     "data": {
      "text/plain": [
       "id               0\n",
       "name             0\n",
       "property_type    0\n",
       "price            0\n",
       "bathrooms        0\n",
       "dtype: int64"
      ]
     },
     "execution_count": 14,
     "metadata": {},
     "output_type": "execute_result"
    }
   ],
   "source": [
    "# check for nulls\n",
    "listings_revised.isnull().sum()"
   ]
  },
  {
   "cell_type": "code",
   "execution_count": 15,
   "id": "dd306199",
   "metadata": {},
   "outputs": [
    {
     "data": {
      "text/html": [
       "<div>\n",
       "<style scoped>\n",
       "    .dataframe tbody tr th:only-of-type {\n",
       "        vertical-align: middle;\n",
       "    }\n",
       "\n",
       "    .dataframe tbody tr th {\n",
       "        vertical-align: top;\n",
       "    }\n",
       "\n",
       "    .dataframe thead th {\n",
       "        text-align: right;\n",
       "    }\n",
       "</style>\n",
       "<table border=\"1\" class=\"dataframe\">\n",
       "  <thead>\n",
       "    <tr style=\"text-align: right;\">\n",
       "      <th></th>\n",
       "      <th>listing_id</th>\n",
       "    </tr>\n",
       "  </thead>\n",
       "  <tbody>\n",
       "    <tr>\n",
       "      <th>count</th>\n",
       "      <td>1.393570e+06</td>\n",
       "    </tr>\n",
       "    <tr>\n",
       "      <th>mean</th>\n",
       "      <td>5.550111e+06</td>\n",
       "    </tr>\n",
       "    <tr>\n",
       "      <th>std</th>\n",
       "      <td>2.962274e+06</td>\n",
       "    </tr>\n",
       "    <tr>\n",
       "      <th>min</th>\n",
       "      <td>3.335000e+03</td>\n",
       "    </tr>\n",
       "    <tr>\n",
       "      <th>25%</th>\n",
       "      <td>3.258213e+06</td>\n",
       "    </tr>\n",
       "    <tr>\n",
       "      <th>50%</th>\n",
       "      <td>6.118244e+06</td>\n",
       "    </tr>\n",
       "    <tr>\n",
       "      <th>75%</th>\n",
       "      <td>8.035212e+06</td>\n",
       "    </tr>\n",
       "    <tr>\n",
       "      <th>max</th>\n",
       "      <td>1.034016e+07</td>\n",
       "    </tr>\n",
       "  </tbody>\n",
       "</table>\n",
       "</div>"
      ],
      "text/plain": [
       "         listing_id\n",
       "count  1.393570e+06\n",
       "mean   5.550111e+06\n",
       "std    2.962274e+06\n",
       "min    3.335000e+03\n",
       "25%    3.258213e+06\n",
       "50%    6.118244e+06\n",
       "75%    8.035212e+06\n",
       "max    1.034016e+07"
      ]
     },
     "execution_count": 15,
     "metadata": {},
     "output_type": "execute_result"
    }
   ],
   "source": [
    "# describe the data\n",
    "calendar.describe()"
   ]
  },
  {
   "cell_type": "code",
   "execution_count": 16,
   "id": "df538a4c",
   "metadata": {},
   "outputs": [
    {
     "data": {
      "text/html": [
       "<div>\n",
       "<style scoped>\n",
       "    .dataframe tbody tr th:only-of-type {\n",
       "        vertical-align: middle;\n",
       "    }\n",
       "\n",
       "    .dataframe tbody tr th {\n",
       "        vertical-align: top;\n",
       "    }\n",
       "\n",
       "    .dataframe thead th {\n",
       "        text-align: right;\n",
       "    }\n",
       "</style>\n",
       "<table border=\"1\" class=\"dataframe\">\n",
       "  <thead>\n",
       "    <tr style=\"text-align: right;\">\n",
       "      <th></th>\n",
       "      <th>id</th>\n",
       "      <th>name</th>\n",
       "      <th>property_type</th>\n",
       "      <th>price</th>\n",
       "      <th>bathrooms</th>\n",
       "    </tr>\n",
       "  </thead>\n",
       "  <tbody>\n",
       "    <tr>\n",
       "      <th>0</th>\n",
       "      <td>241032</td>\n",
       "      <td>Stylish Queen Anne Apartment</td>\n",
       "      <td>Apartment</td>\n",
       "      <td>$85.00</td>\n",
       "      <td>1.0</td>\n",
       "    </tr>\n",
       "    <tr>\n",
       "      <th>1</th>\n",
       "      <td>953595</td>\n",
       "      <td>Bright &amp; Airy Queen Anne Apartment</td>\n",
       "      <td>Apartment</td>\n",
       "      <td>$150.00</td>\n",
       "      <td>1.0</td>\n",
       "    </tr>\n",
       "    <tr>\n",
       "      <th>2</th>\n",
       "      <td>3308979</td>\n",
       "      <td>New Modern House-Amazing water view</td>\n",
       "      <td>House</td>\n",
       "      <td>$975.00</td>\n",
       "      <td>4.5</td>\n",
       "    </tr>\n",
       "    <tr>\n",
       "      <th>3</th>\n",
       "      <td>7421966</td>\n",
       "      <td>Queen Anne Chateau</td>\n",
       "      <td>Apartment</td>\n",
       "      <td>$100.00</td>\n",
       "      <td>1.0</td>\n",
       "    </tr>\n",
       "    <tr>\n",
       "      <th>4</th>\n",
       "      <td>278830</td>\n",
       "      <td>Charming craftsman 3 bdm house</td>\n",
       "      <td>House</td>\n",
       "      <td>$450.00</td>\n",
       "      <td>2.0</td>\n",
       "    </tr>\n",
       "  </tbody>\n",
       "</table>\n",
       "</div>"
      ],
      "text/plain": [
       "        id                                 name property_type    price  \\\n",
       "0   241032         Stylish Queen Anne Apartment     Apartment   $85.00   \n",
       "1   953595   Bright & Airy Queen Anne Apartment     Apartment  $150.00   \n",
       "2  3308979  New Modern House-Amazing water view         House  $975.00   \n",
       "3  7421966                   Queen Anne Chateau     Apartment  $100.00   \n",
       "4   278830       Charming craftsman 3 bdm house         House  $450.00   \n",
       "\n",
       "   bathrooms  \n",
       "0        1.0  \n",
       "1        1.0  \n",
       "2        4.5  \n",
       "3        1.0  \n",
       "4        2.0  "
      ]
     },
     "execution_count": 16,
     "metadata": {},
     "output_type": "execute_result"
    }
   ],
   "source": [
    "# explore the data\n",
    "listings_revised.head()"
   ]
  },
  {
   "cell_type": "code",
   "execution_count": 17,
   "id": "e6e6a3aa",
   "metadata": {},
   "outputs": [
    {
     "data": {
      "text/html": [
       "<div>\n",
       "<style scoped>\n",
       "    .dataframe tbody tr th:only-of-type {\n",
       "        vertical-align: middle;\n",
       "    }\n",
       "\n",
       "    .dataframe tbody tr th {\n",
       "        vertical-align: top;\n",
       "    }\n",
       "\n",
       "    .dataframe thead th {\n",
       "        text-align: right;\n",
       "    }\n",
       "</style>\n",
       "<table border=\"1\" class=\"dataframe\">\n",
       "  <thead>\n",
       "    <tr style=\"text-align: right;\">\n",
       "      <th></th>\n",
       "      <th>id</th>\n",
       "      <th>bathrooms</th>\n",
       "    </tr>\n",
       "  </thead>\n",
       "  <tbody>\n",
       "    <tr>\n",
       "      <th>count</th>\n",
       "      <td>3.818000e+03</td>\n",
       "      <td>3818.000000</td>\n",
       "    </tr>\n",
       "    <tr>\n",
       "      <th>mean</th>\n",
       "      <td>5.550111e+06</td>\n",
       "      <td>1.258381</td>\n",
       "    </tr>\n",
       "    <tr>\n",
       "      <th>std</th>\n",
       "      <td>2.962660e+06</td>\n",
       "      <td>0.589369</td>\n",
       "    </tr>\n",
       "    <tr>\n",
       "      <th>min</th>\n",
       "      <td>3.335000e+03</td>\n",
       "      <td>0.000000</td>\n",
       "    </tr>\n",
       "    <tr>\n",
       "      <th>25%</th>\n",
       "      <td>3.258256e+06</td>\n",
       "      <td>1.000000</td>\n",
       "    </tr>\n",
       "    <tr>\n",
       "      <th>50%</th>\n",
       "      <td>6.118244e+06</td>\n",
       "      <td>1.000000</td>\n",
       "    </tr>\n",
       "    <tr>\n",
       "      <th>75%</th>\n",
       "      <td>8.035127e+06</td>\n",
       "      <td>1.000000</td>\n",
       "    </tr>\n",
       "    <tr>\n",
       "      <th>max</th>\n",
       "      <td>1.034016e+07</td>\n",
       "      <td>8.000000</td>\n",
       "    </tr>\n",
       "  </tbody>\n",
       "</table>\n",
       "</div>"
      ],
      "text/plain": [
       "                 id    bathrooms\n",
       "count  3.818000e+03  3818.000000\n",
       "mean   5.550111e+06     1.258381\n",
       "std    2.962660e+06     0.589369\n",
       "min    3.335000e+03     0.000000\n",
       "25%    3.258256e+06     1.000000\n",
       "50%    6.118244e+06     1.000000\n",
       "75%    8.035127e+06     1.000000\n",
       "max    1.034016e+07     8.000000"
      ]
     },
     "execution_count": 17,
     "metadata": {},
     "output_type": "execute_result"
    }
   ],
   "source": [
    "# describe the data\n",
    "listings_revised.describe()"
   ]
  },
  {
   "cell_type": "code",
   "execution_count": 18,
   "id": "687e9b68",
   "metadata": {},
   "outputs": [
    {
     "data": {
      "text/html": [
       "<div>\n",
       "<style scoped>\n",
       "    .dataframe tbody tr th:only-of-type {\n",
       "        vertical-align: middle;\n",
       "    }\n",
       "\n",
       "    .dataframe tbody tr th {\n",
       "        vertical-align: top;\n",
       "    }\n",
       "\n",
       "    .dataframe thead th {\n",
       "        text-align: right;\n",
       "    }\n",
       "</style>\n",
       "<table border=\"1\" class=\"dataframe\">\n",
       "  <thead>\n",
       "    <tr style=\"text-align: right;\">\n",
       "      <th></th>\n",
       "      <th>listing_id</th>\n",
       "      <th>id</th>\n",
       "      <th>reviewer_id</th>\n",
       "    </tr>\n",
       "  </thead>\n",
       "  <tbody>\n",
       "    <tr>\n",
       "      <th>count</th>\n",
       "      <td>8.484900e+04</td>\n",
       "      <td>8.484900e+04</td>\n",
       "      <td>8.484900e+04</td>\n",
       "    </tr>\n",
       "    <tr>\n",
       "      <th>mean</th>\n",
       "      <td>3.005067e+06</td>\n",
       "      <td>3.058765e+07</td>\n",
       "      <td>1.701301e+07</td>\n",
       "    </tr>\n",
       "    <tr>\n",
       "      <th>std</th>\n",
       "      <td>2.472877e+06</td>\n",
       "      <td>1.636613e+07</td>\n",
       "      <td>1.353704e+07</td>\n",
       "    </tr>\n",
       "    <tr>\n",
       "      <th>min</th>\n",
       "      <td>4.291000e+03</td>\n",
       "      <td>3.721000e+03</td>\n",
       "      <td>1.500000e+01</td>\n",
       "    </tr>\n",
       "    <tr>\n",
       "      <th>25%</th>\n",
       "      <td>7.946330e+05</td>\n",
       "      <td>1.725127e+07</td>\n",
       "      <td>5.053141e+06</td>\n",
       "    </tr>\n",
       "    <tr>\n",
       "      <th>50%</th>\n",
       "      <td>2.488228e+06</td>\n",
       "      <td>3.228809e+07</td>\n",
       "      <td>1.413476e+07</td>\n",
       "    </tr>\n",
       "    <tr>\n",
       "      <th>75%</th>\n",
       "      <td>4.694479e+06</td>\n",
       "      <td>4.457648e+07</td>\n",
       "      <td>2.762402e+07</td>\n",
       "    </tr>\n",
       "    <tr>\n",
       "      <th>max</th>\n",
       "      <td>1.024814e+07</td>\n",
       "      <td>5.873651e+07</td>\n",
       "      <td>5.281274e+07</td>\n",
       "    </tr>\n",
       "  </tbody>\n",
       "</table>\n",
       "</div>"
      ],
      "text/plain": [
       "         listing_id            id   reviewer_id\n",
       "count  8.484900e+04  8.484900e+04  8.484900e+04\n",
       "mean   3.005067e+06  3.058765e+07  1.701301e+07\n",
       "std    2.472877e+06  1.636613e+07  1.353704e+07\n",
       "min    4.291000e+03  3.721000e+03  1.500000e+01\n",
       "25%    7.946330e+05  1.725127e+07  5.053141e+06\n",
       "50%    2.488228e+06  3.228809e+07  1.413476e+07\n",
       "75%    4.694479e+06  4.457648e+07  2.762402e+07\n",
       "max    1.024814e+07  5.873651e+07  5.281274e+07"
      ]
     },
     "execution_count": 18,
     "metadata": {},
     "output_type": "execute_result"
    }
   ],
   "source": [
    "# describe the data\n",
    "reviews.describe()"
   ]
  },
  {
   "cell_type": "code",
   "execution_count": 19,
   "id": "8a7cb8a6",
   "metadata": {},
   "outputs": [],
   "source": [
    "def print_dataframe_and_memory_usage(df):\n",
    "    '''\n",
    "    This function provides information on the dataframe\n",
    "    as well as how much memory is being used to help\n",
    "    ensure the code is not using too much resources.\n",
    "    Input:\n",
    "    Dataframe\n",
    "    Output:\n",
    "    printed contents of dataframe and memory usage\n",
    "    '''\n",
    "    print('Dataframe:')\n",
    "    print(df)\n",
    "    print('Memory Usage')\n",
    "    print(sys.getsizeof(df))"
   ]
  },
  {
   "cell_type": "markdown",
   "id": "fbd03390",
   "metadata": {},
   "source": [
    "### Evaluation"
   ]
  },
  {
   "cell_type": "markdown",
   "id": "448845e6",
   "metadata": {},
   "source": [
    "### Question 1: Which property type is the most popular?"
   ]
  },
  {
   "cell_type": "code",
   "execution_count": 20,
   "id": "6ff3378d",
   "metadata": {},
   "outputs": [],
   "source": [
    "# create a new dataframe with the counts sorted\n",
    "# with the highest counts first. It provides a\n",
    "# list of all the property types with the number\n",
    "# of listings counted per property type.\n",
    "property_type = listings_revised.groupby(\n",
    "    ['property_type'])['id'].count().sort_values(ascending=False)"
   ]
  },
  {
   "cell_type": "code",
   "execution_count": 21,
   "id": "d8b4a2d8",
   "metadata": {},
   "outputs": [
    {
     "name": "stdout",
     "output_type": "stream",
     "text": [
      "Dataframe:\n",
      "property_type\n",
      "House              1734\n",
      "Apartment          1708\n",
      "Townhouse           118\n",
      "Condominium          91\n",
      "Loft                 40\n",
      "Bed & Breakfast      37\n",
      "Other                22\n",
      "Cabin                21\n",
      "Bungalow             13\n",
      "Camper/RV            13\n",
      "Boat                  8\n",
      "Tent                  5\n",
      "Treehouse             3\n",
      "Chalet                2\n",
      "Dorm                  2\n",
      "Yurt                  1\n",
      "Name: id, dtype: int64\n",
      "Memory Usage\n",
      "1183\n"
     ]
    }
   ],
   "source": [
    "# This shows the contents of the dataframe as well\n",
    "# as how much memory is being used\n",
    "print_dataframe_and_memory_usage(property_type)"
   ]
  },
  {
   "cell_type": "code",
   "execution_count": 22,
   "id": "b54511a3",
   "metadata": {},
   "outputs": [
    {
     "data": {
      "text/plain": [
       "Text(0.5, 1.0, 'Property types and number of listing counts')"
      ]
     },
     "execution_count": 22,
     "metadata": {},
     "output_type": "execute_result"
    },
    {
     "data": {
      "image/png": "[encoded data removed]",
      "text/plain": [
       "<Figure size 640x480 with 1 Axes>"
      ]
     },
     "metadata": {},
     "output_type": "display_data"
    }
   ],
   "source": [
    "# plot the data with the dataframe from above. This shows\n",
    "# the relationship between the number of listings and the\n",
    "# property types.\n",
    "property_type.plot(kind='bar')  # this plots the chart\n",
    "plt.xlabel('Property Types')\n",
    "plt.ylabel('No. of Listings')\n",
    "plt.title('Property types and number of listing counts')"
   ]
  },
  {
   "cell_type": "markdown",
   "id": "f5e3467a",
   "metadata": {},
   "source": [
    "Although it is noticeable that Houses are the most popular property types, you can also see from the visualization that the other main competitor will be Apartments. This provides a further option if needed in case you are unable to purchase a house.\n",
    "The other properties are very low in numbers hence it may not be a good purchase."
   ]
  },
  {
   "cell_type": "markdown",
   "id": "9a56839a",
   "metadata": {},
   "source": [
    "### Question 2: What is the most popular price for the most popular property type?"
   ]
  },
  {
   "cell_type": "code",
   "execution_count": 23,
   "id": "456d8057",
   "metadata": {},
   "outputs": [],
   "source": [
    "# create a new dataframe filtered by houses only\n",
    "# to determine the trend and popular price\n",
    "house_prices = listings_revised[listings_revised['property_type'] == 'House']"
   ]
  },
  {
   "cell_type": "code",
   "execution_count": 24,
   "id": "0bb1287f",
   "metadata": {},
   "outputs": [
    {
     "data": {
      "text/html": [
       "<div>\n",
       "<style scoped>\n",
       "    .dataframe tbody tr th:only-of-type {\n",
       "        vertical-align: middle;\n",
       "    }\n",
       "\n",
       "    .dataframe tbody tr th {\n",
       "        vertical-align: top;\n",
       "    }\n",
       "\n",
       "    .dataframe thead th {\n",
       "        text-align: right;\n",
       "    }\n",
       "</style>\n",
       "<table border=\"1\" class=\"dataframe\">\n",
       "  <thead>\n",
       "    <tr style=\"text-align: right;\">\n",
       "      <th></th>\n",
       "      <th>id</th>\n",
       "      <th>name</th>\n",
       "      <th>property_type</th>\n",
       "      <th>price</th>\n",
       "      <th>bathrooms</th>\n",
       "    </tr>\n",
       "  </thead>\n",
       "  <tbody>\n",
       "    <tr>\n",
       "      <th>2</th>\n",
       "      <td>3308979</td>\n",
       "      <td>New Modern House-Amazing water view</td>\n",
       "      <td>House</td>\n",
       "      <td>$975.00</td>\n",
       "      <td>4.5</td>\n",
       "    </tr>\n",
       "    <tr>\n",
       "      <th>4</th>\n",
       "      <td>278830</td>\n",
       "      <td>Charming craftsman 3 bdm house</td>\n",
       "      <td>House</td>\n",
       "      <td>$450.00</td>\n",
       "      <td>2.0</td>\n",
       "    </tr>\n",
       "    <tr>\n",
       "      <th>5</th>\n",
       "      <td>5956968</td>\n",
       "      <td>Private unit in a 1920s mansion</td>\n",
       "      <td>House</td>\n",
       "      <td>$120.00</td>\n",
       "      <td>1.0</td>\n",
       "    </tr>\n",
       "    <tr>\n",
       "      <th>6</th>\n",
       "      <td>1909058</td>\n",
       "      <td>Queen Anne Private Bed and Bath</td>\n",
       "      <td>House</td>\n",
       "      <td>$80.00</td>\n",
       "      <td>1.0</td>\n",
       "    </tr>\n",
       "    <tr>\n",
       "      <th>10</th>\n",
       "      <td>175576</td>\n",
       "      <td>Private Apartment - Queen Anne Hill</td>\n",
       "      <td>House</td>\n",
       "      <td>$95.00</td>\n",
       "      <td>1.0</td>\n",
       "    </tr>\n",
       "  </tbody>\n",
       "</table>\n",
       "</div>"
      ],
      "text/plain": [
       "         id                                 name property_type    price  \\\n",
       "2   3308979  New Modern House-Amazing water view         House  $975.00   \n",
       "4    278830       Charming craftsman 3 bdm house         House  $450.00   \n",
       "5   5956968      Private unit in a 1920s mansion         House  $120.00   \n",
       "6   1909058      Queen Anne Private Bed and Bath         House   $80.00   \n",
       "10   175576  Private Apartment - Queen Anne Hill         House   $95.00   \n",
       "\n",
       "    bathrooms  \n",
       "2         4.5  \n",
       "4         2.0  \n",
       "5         1.0  \n",
       "6         1.0  \n",
       "10        1.0  "
      ]
     },
     "execution_count": 24,
     "metadata": {},
     "output_type": "execute_result"
    }
   ],
   "source": [
    "# explore the data\n",
    "house_prices.head()"
   ]
  },
  {
   "cell_type": "code",
   "execution_count": 25,
   "id": "62d4eb58",
   "metadata": {},
   "outputs": [
    {
     "name": "stdout",
     "output_type": "stream",
     "text": [
      "<class 'pandas.core.frame.DataFrame'>\n",
      "Index: 1734 entries, 2 to 3815\n",
      "Data columns (total 5 columns):\n",
      " #   Column         Non-Null Count  Dtype  \n",
      "---  ------         --------------  -----  \n",
      " 0   id             1734 non-null   int64  \n",
      " 1   name           1734 non-null   object \n",
      " 2   property_type  1734 non-null   object \n",
      " 3   price          1734 non-null   object \n",
      " 4   bathrooms      1734 non-null   float64\n",
      "dtypes: float64(1), int64(1), object(3)\n",
      "memory usage: 81.3+ KB\n"
     ]
    }
   ],
   "source": [
    "# check for information\n",
    "house_prices.info()"
   ]
  },
  {
   "cell_type": "code",
   "execution_count": 26,
   "id": "f788ab13",
   "metadata": {},
   "outputs": [],
   "source": [
    "# create a new dataframe with the counts sorted with the\n",
    "# highest counts first. It provides a list of all the\n",
    "# property types with the number of listings counted\n",
    "# per property type.\n",
    "house_prices = house_prices.groupby(\n",
    "    ['price'])['id'].count().sort_values(ascending=False)"
   ]
  },
  {
   "cell_type": "code",
   "execution_count": 27,
   "id": "c313fe64",
   "metadata": {},
   "outputs": [
    {
     "name": "stdout",
     "output_type": "stream",
     "text": [
      "Dataframe:\n",
      "price\n",
      "$55.00       59\n",
      "$65.00       57\n",
      "$150.00      54\n",
      "$100.00      53\n",
      "$75.00       51\n",
      "             ..\n",
      "$254.00       1\n",
      "$255.00       1\n",
      "$499.00       1\n",
      "$495.00       1\n",
      "$1,000.00     1\n",
      "Name: id, Length: 220, dtype: int64\n",
      "Memory Usage\n",
      "15801\n"
     ]
    }
   ],
   "source": [
    "# This shows the contents of the dataframe as\n",
    "# well as how much memory is being used\n",
    "print_dataframe_and_memory_usage(house_prices)"
   ]
  },
  {
   "cell_type": "code",
   "execution_count": 28,
   "id": "87a5544e",
   "metadata": {},
   "outputs": [
    {
     "name": "stdout",
     "output_type": "stream",
     "text": [
      "<class 'pandas.core.series.Series'>\n",
      "Index: 220 entries, $55.00 to $1,000.00\n",
      "Series name: id\n",
      "Non-Null Count  Dtype\n",
      "--------------  -----\n",
      "220 non-null    int64\n",
      "dtypes: int64(1)\n",
      "memory usage: 3.4+ KB\n"
     ]
    }
   ],
   "source": [
    "# check for information\n",
    "house_prices.info()"
   ]
  },
  {
   "cell_type": "code",
   "execution_count": 29,
   "id": "f654a4bb",
   "metadata": {},
   "outputs": [
    {
     "data": {
      "text/plain": [
       "Text(0.5, 1.0, 'Different daily prices and the number of listings')"
      ]
     },
     "execution_count": 29,
     "metadata": {},
     "output_type": "execute_result"
    },
    {
     "data": {
      "image/png": "[encoded data removed]",
      "text/plain": [
       "<Figure size 640x480 with 1 Axes>"
      ]
     },
     "metadata": {},
     "output_type": "display_data"
    }
   ],
   "source": [
    "# plot the data. This shows the relationship\n",
    "# between the number of listings and the\n",
    "# daily prices.\n",
    "house_prices.plot(kind='line')  # this plots the chart\n",
    "plt.xlabel('Daily Price')\n",
    "plt.ylabel('No. of Listings')\n",
    "plt.title('Different daily prices and the number of listings')"
   ]
  },
  {
   "cell_type": "markdown",
   "id": "036794df",
   "metadata": {},
   "source": [
    "From the visualization above, it can be seen that the prices vary a lot but with the right price point of $ 55 to \n",
    "enter the market, you can then easily make small changes in price to determine if it is favourable for you profits."
   ]
  },
  {
   "cell_type": "markdown",
   "id": "96d3d8eb",
   "metadata": {},
   "source": [
    "### Question 3: What is the most popular bathroom for the most popular property type?"
   ]
  },
  {
   "cell_type": "code",
   "execution_count": 30,
   "id": "c65fa9f6",
   "metadata": {},
   "outputs": [],
   "source": [
    "# create a new dataframe filtered by houses only\n",
    "# to determine the trend and popular bathrooms\n",
    "house_bathrooms = listings_revised[\n",
    "    listings_revised['property_type'] == 'House']"
   ]
  },
  {
   "cell_type": "code",
   "execution_count": 31,
   "id": "c0f4bc7d",
   "metadata": {},
   "outputs": [
    {
     "data": {
      "text/html": [
       "<div>\n",
       "<style scoped>\n",
       "    .dataframe tbody tr th:only-of-type {\n",
       "        vertical-align: middle;\n",
       "    }\n",
       "\n",
       "    .dataframe tbody tr th {\n",
       "        vertical-align: top;\n",
       "    }\n",
       "\n",
       "    .dataframe thead th {\n",
       "        text-align: right;\n",
       "    }\n",
       "</style>\n",
       "<table border=\"1\" class=\"dataframe\">\n",
       "  <thead>\n",
       "    <tr style=\"text-align: right;\">\n",
       "      <th></th>\n",
       "      <th>id</th>\n",
       "      <th>name</th>\n",
       "      <th>property_type</th>\n",
       "      <th>price</th>\n",
       "      <th>bathrooms</th>\n",
       "    </tr>\n",
       "  </thead>\n",
       "  <tbody>\n",
       "    <tr>\n",
       "      <th>2</th>\n",
       "      <td>3308979</td>\n",
       "      <td>New Modern House-Amazing water view</td>\n",
       "      <td>House</td>\n",
       "      <td>$975.00</td>\n",
       "      <td>4.5</td>\n",
       "    </tr>\n",
       "    <tr>\n",
       "      <th>4</th>\n",
       "      <td>278830</td>\n",
       "      <td>Charming craftsman 3 bdm house</td>\n",
       "      <td>House</td>\n",
       "      <td>$450.00</td>\n",
       "      <td>2.0</td>\n",
       "    </tr>\n",
       "    <tr>\n",
       "      <th>5</th>\n",
       "      <td>5956968</td>\n",
       "      <td>Private unit in a 1920s mansion</td>\n",
       "      <td>House</td>\n",
       "      <td>$120.00</td>\n",
       "      <td>1.0</td>\n",
       "    </tr>\n",
       "    <tr>\n",
       "      <th>6</th>\n",
       "      <td>1909058</td>\n",
       "      <td>Queen Anne Private Bed and Bath</td>\n",
       "      <td>House</td>\n",
       "      <td>$80.00</td>\n",
       "      <td>1.0</td>\n",
       "    </tr>\n",
       "    <tr>\n",
       "      <th>10</th>\n",
       "      <td>175576</td>\n",
       "      <td>Private Apartment - Queen Anne Hill</td>\n",
       "      <td>House</td>\n",
       "      <td>$95.00</td>\n",
       "      <td>1.0</td>\n",
       "    </tr>\n",
       "  </tbody>\n",
       "</table>\n",
       "</div>"
      ],
      "text/plain": [
       "         id                                 name property_type    price  \\\n",
       "2   3308979  New Modern House-Amazing water view         House  $975.00   \n",
       "4    278830       Charming craftsman 3 bdm house         House  $450.00   \n",
       "5   5956968      Private unit in a 1920s mansion         House  $120.00   \n",
       "6   1909058      Queen Anne Private Bed and Bath         House   $80.00   \n",
       "10   175576  Private Apartment - Queen Anne Hill         House   $95.00   \n",
       "\n",
       "    bathrooms  \n",
       "2         4.5  \n",
       "4         2.0  \n",
       "5         1.0  \n",
       "6         1.0  \n",
       "10        1.0  "
      ]
     },
     "execution_count": 31,
     "metadata": {},
     "output_type": "execute_result"
    }
   ],
   "source": [
    "# explore the data\n",
    "house_bathrooms.head()"
   ]
  },
  {
   "cell_type": "code",
   "execution_count": 32,
   "id": "30ca3c86",
   "metadata": {},
   "outputs": [
    {
     "name": "stdout",
     "output_type": "stream",
     "text": [
      "<class 'pandas.core.frame.DataFrame'>\n",
      "Index: 1734 entries, 2 to 3815\n",
      "Data columns (total 5 columns):\n",
      " #   Column         Non-Null Count  Dtype  \n",
      "---  ------         --------------  -----  \n",
      " 0   id             1734 non-null   int64  \n",
      " 1   name           1734 non-null   object \n",
      " 2   property_type  1734 non-null   object \n",
      " 3   price          1734 non-null   object \n",
      " 4   bathrooms      1734 non-null   float64\n",
      "dtypes: float64(1), int64(1), object(3)\n",
      "memory usage: 81.3+ KB\n"
     ]
    }
   ],
   "source": [
    "# check for information\n",
    "house_bathrooms.info()"
   ]
  },
  {
   "cell_type": "code",
   "execution_count": 33,
   "id": "af0cba40",
   "metadata": {},
   "outputs": [],
   "source": [
    "# create a new dataframe with the counts sorted with the\n",
    "# highest counts first. It provides a list of all the property types\n",
    "# with the number of listings counted per property type.\n",
    "house_bathrooms = house_bathrooms.groupby(['bathrooms'])['id'].count().sort_values(ascending=False)"
   ]
  },
  {
   "cell_type": "code",
   "execution_count": 34,
   "id": "5fa869a9",
   "metadata": {},
   "outputs": [
    {
     "name": "stdout",
     "output_type": "stream",
     "text": [
      "Dataframe:\n",
      "bathrooms\n",
      "1.0    1132\n",
      "2.0     205\n",
      "1.5     161\n",
      "2.5      98\n",
      "3.0      56\n",
      "3.5      50\n",
      "0.5      19\n",
      "4.0       7\n",
      "0.0       3\n",
      "4.5       2\n",
      "5.0       1\n",
      "Name: id, dtype: int64\n",
      "Memory Usage\n",
      "208\n"
     ]
    }
   ],
   "source": [
    "# This shows the contents of the dataframe\n",
    "# as well as how much memory is being used\n",
    "print_dataframe_and_memory_usage(house_bathrooms)"
   ]
  },
  {
   "cell_type": "code",
   "execution_count": 35,
   "id": "fc00187f",
   "metadata": {},
   "outputs": [
    {
     "name": "stdout",
     "output_type": "stream",
     "text": [
      "<class 'pandas.core.series.Series'>\n",
      "Index: 11 entries, 1.0 to 5.0\n",
      "Series name: id\n",
      "Non-Null Count  Dtype\n",
      "--------------  -----\n",
      "11 non-null     int64\n",
      "dtypes: int64(1)\n",
      "memory usage: 176.0 bytes\n"
     ]
    }
   ],
   "source": [
    "# check for information\n",
    "house_bathrooms.info()"
   ]
  },
  {
   "cell_type": "code",
   "execution_count": 36,
   "id": "f05e3a2c",
   "metadata": {},
   "outputs": [
    {
     "data": {
      "text/plain": [
       "Text(0.5, 1.0, 'Different bathrooms and the number of listings')"
      ]
     },
     "execution_count": 36,
     "metadata": {},
     "output_type": "execute_result"
    },
    {
     "data": {
      "image/png": "[encoded data removed]",
      "text/plain": [
       "<Figure size 640x480 with 1 Axes>"
      ]
     },
     "metadata": {},
     "output_type": "display_data"
    }
   ],
   "source": [
    "# plot the data. This shows the relationship\n",
    "# between the number of listings and the\n",
    "# number of bathrooms for houses.\n",
    "house_bathrooms.plot(kind='bar')  # this plots the chart\n",
    "plt.xlabel('Bathrooms')\n",
    "plt.ylabel('No. of Listings')\n",
    "plt.title('Different bathrooms and the number of listings')"
   ]
  },
  {
   "cell_type": "markdown",
   "id": "eb099832",
   "metadata": {},
   "source": [
    "From the visualization above, it can be seen that most houses has just 1 bathroom hence if you purchase a house with just\n",
    "1 bathroom, if should be acceptable by the customers. As you also notice, the houses with 2 or more bathrooms are low\n",
    "so it may also reflect the market when searching for a house to purchase where this might also be the case."
   ]
  },
  {
   "cell_type": "code",
   "execution_count": null,
   "id": "15347a83",
   "metadata": {},
   "outputs": [],
   "source": []
  }
 ],
 "metadata": {
  "kernelspec": {
   "display_name": "Python 3 (ipykernel)",
   "language": "python",
   "name": "python3"
  },
  "language_info": {
   "codemirror_mode": {
    "name": "ipython",
    "version": 3
   },
   "file_extension": ".py",
   "mimetype": "text/x-python",
   "name": "python",
   "nbconvert_exporter": "python",
   "pygments_lexer": "ipython3",
   "version": "3.11.5"
  }
 },
 "nbformat": 4,
 "nbformat_minor": 5
}
